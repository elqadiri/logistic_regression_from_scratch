{
 "cells": [
  {
   "cell_type": "markdown",
   "id": "39a39adb",
   "metadata": {},
   "source": [
    "# Logistic Regression from Scratch for the Titanic Dataset\n",
    "\n",
    "Logistic regression is a widely used machine learning algorithm for binary classification problems. For the Titanic dataset, it is commonly applied to predict whether a passenger survived or not based on various features such as age, gender, passenger class, etc.\n",
    "\n",
    "## Objective\n",
    "\n",
    "The goal is to implement logistic regression from scratch (without using prebuilt libraries like Scikit-learn for the model) to predict the survival (Survived) of passengers in the Titanic dataset. The target variable (Survived) is binary:\n",
    "\n",
    "- 1: The passenger survived.\n",
    "- 0: The passenger did not survive.\n"
   ]
  },
  {
   "cell_type": "code",
   "execution_count": 14,
   "id": "5c3fcb40-6dbe-4212-9ef8-14b1979da596",
   "metadata": {},
   "outputs": [],
   "source": [
    "import numpy as np\n",
    "import pandas as pd\n",
    "import matplotlib.pyplot as plt"
   ]
  },
  {
   "cell_type": "code",
   "execution_count": 15,
   "id": "f4387d26-345c-45d6-b807-586bf89bc9d8",
   "metadata": {},
   "outputs": [],
   "source": [
    "\n",
    "x_train = pd.read_csv('train_X.csv')\n",
    "x_test = pd.read_csv('test_X.csv')\n",
    "y_train = pd.read_csv('train_Y.csv')\n",
    "y_test = pd.read_csv('test_Y.csv')"
   ]
  },
  {
   "cell_type": "code",
   "execution_count": 16,
   "id": "dae7a816-c4ff-4d5f-bdc4-e87bc84fb4ca",
   "metadata": {},
   "outputs": [],
   "source": [
    "x_train = x_train.drop('Id',axis = 1)\n",
    "x_test = x_test.drop('Id',axis = 1)\n",
    "y_train = y_train.drop('Id',axis = 1)\n",
    "y_test = y_test.drop('Id',axis = 1)"
   ]
  },
  {
   "cell_type": "markdown",
   "id": "3a6758c0",
   "metadata": {},
   "source": [
    "<h3>The Conversion to NumPy Arrays: A Crucial Step in Implementing Logistic Regression (or Any Machine Learning Algorithm) From Scratch</h3>\n",
    "\n",
    "<p>Converting data to NumPy arrays is an essential step when implementing logistic regression or any other machine learning algorithm from scratch. Here’s why this conversion is necessary and why we don’t work directly with the original data structures (like pandas DataFrames):</p>\n",
    "\n",
    "<h3>1. Why Convert to NumPy Arrays?</h3>\n",
    "\n",
    "<h4>a. Computational Efficiency:</h4>\n",
    "<ul>\n",
    "  <li><b>Optimized Calculations:</b> NumPy is optimized for numerical computations and matrix operations.</li>\n",
    "  <li><b>Speed:</b> Operations on NumPy arrays are significantly faster than on pandas DataFrames, especially when dealing with large matrices.</li>\n",
    "  <li><b>Example:</b> Matrix multiplication, additions, and other mathematical operations are highly optimized in NumPy.</li>\n",
    "</ul>\n",
    "\n",
    "<h4>b. Compatibility with Mathematical Operations:</h4>\n",
    "<ul>\n",
    "  <li><b>Complex Operations:</b> Machine learning algorithms often involve complex mathematical operations (e.g., matrix multiplications, gradient calculations, etc.).</li>\n",
    "  <li><b>Native Functions:</b> NumPy provides native functions for these operations, such as <code>np.dot()</code> for matrix multiplication, <code>np.sum()</code> for summation, and more.</li>\n",
    "  <li><b>Limitation of pandas:</b> pandas DataFrames are not designed for such low-level mathematical operations.</li>\n",
    "</ul>\n"
   ]
  },
  {
   "cell_type": "code",
   "execution_count": 17,
   "id": "23fef57e-c0d5-466f-ba08-682597309a59",
   "metadata": {},
   "outputs": [],
   "source": [
    "x_train = x_train.values\n",
    "x_test = x_test.values\n",
    "y_train = y_train.values\n",
    "y_test = y_test.values"
   ]
  },
  {
   "cell_type": "markdown",
   "id": "ebed1836",
   "metadata": {},
   "source": [
    "<h2>Explanation of Data Preprocessing Steps</h2>\n",
    "\n",
    "<p>This code performs the following operations:</p>\n",
    "\n",
    "<h3>1. Transposes <code>x_train</code> and <code>x_test</code>:</h3>\n",
    "<ul>\n",
    "  <li>The <code>.T</code> operation swaps the rows and columns of the matrices.</li>\n",
    "  <li>If <code>x_train</code> originally has a shape of <code>(n_samples, n_features)</code>, after transposition, it will have a shape of <code>(n_features, n_samples)</code>. The same applies to <code>x_test</code>.</li>\n",
    "</ul>\n",
    "\n",
    "<h3>2. Reshapes <code>y_train</code> and <code>y_test</code>:</h3>\n",
    "<ul>\n",
    "  <li>The <code>.reshape(1, x_train.shape[1])</code> operation converts <code>y_train</code> and <code>y_test</code> into row vectors with a shape of <code>(1, n_samples)</code>.</li>\n",
    "  <li>This ensures that the target labels (<code>y_train</code> and <code>y_test</code>) are in a compatible format for matrix operations, particularly when calculating predictions and gradients during training or evaluation.</li>\n",
    "</ul>\n",
    "\n",
    "<h3>Summary:</h3>\n",
    "<p>This code prepares the input data (<code>x_train</code>, <code>x_test</code>) and target labels (<code>y_train</code>, <code>y_test</code>) for use in a machine learning model by ensuring the dimensions are aligned correctly for matrix operations.</p>\n"
   ]
  },
  {
   "cell_type": "code",
   "execution_count": 18,
   "id": "75e9ea4b-5d58-445b-9936-75ae99cdb4d0",
   "metadata": {},
   "outputs": [],
   "source": [
    "x_train = x_train.T\n",
    "x_test = x_test.T\n",
    "y_train = y_train.reshape(1,x_train.shape[1])\n",
    "y_test = y_test.reshape(1,x_test.shape[1])"
   ]
  },
  {
   "cell_type": "code",
   "execution_count": 19,
   "id": "ff70ce11-0d43-4112-8c3f-dcb2daa6e2a9",
   "metadata": {},
   "outputs": [
    {
     "name": "stdout",
     "output_type": "stream",
     "text": [
      "(7, 891)\n",
      "(1, 891)\n",
      "(7, 418)\n",
      "(1, 418)\n"
     ]
    }
   ],
   "source": [
    "print(x_train.shape)\n",
    "print(y_train.shape)\n",
    "print(x_test.shape)\n",
    "print(y_test.shape)"
   ]
  },
  {
   "cell_type": "markdown",
   "id": "fe1c2fc8",
   "metadata": {},
   "source": [
    "# Logistic Regression Overview\n",
    "\n",
    "## Key Concepts\n",
    "\n",
    "Below are the key components of logistic regression:\n",
    "\n",
    "1. **Sigmoid Function, Cost Function, and Gradient Descent** (Left)\n",
    "2. **Logistic Regression Equations** (Right)\n",
    "\n",
    "<table>\n",
    "    <tr>\n",
    "        <td align=\"center\">\n",
    "            <strong>Sigmoid Function and Cost Function</strong><br>\n",
    "            <img src=\"image.png\" alt=\"Sigmoid Function\" style=\"width: 400px;\">\n",
    "        </td>\n",
    "        <td align=\"center\">\n",
    "            <strong>Logistic Regression Equations</strong><br>\n",
    "            <img src=\"image2.png\" alt=\"Logistic Regression Equations\" style=\"width: 400px;\">\n",
    "        </td>\n",
    "    </tr>\n",
    "</table>\n"
   ]
  },
  {
   "cell_type": "code",
   "execution_count": 20,
   "id": "f4765854-9f12-43f5-afed-03b6b016df36",
   "metadata": {},
   "outputs": [],
   "source": [
    "def segmoid(x):\n",
    "    return 1/(1+np.exp(-x))"
   ]
  },
  {
   "cell_type": "code",
   "execution_count": 21,
   "id": "9cbbe0cc-8a99-4da4-9f55-742647879928",
   "metadata": {},
   "outputs": [],
   "source": [
    "def model(x,y,ite,lr):\n",
    "    m = x.shape[1]\n",
    "    n = x.shape[0]\n",
    "\n",
    "    w = np.zeros((n,1))\n",
    "    b=0\n",
    "\n",
    "    cost_list = []\n",
    "\n",
    "    for i in range(ite):\n",
    "        z = np.dot(w.T,x)+b\n",
    "        a = segmoid(z)\n",
    "\n",
    "        cost = (-1/m)*np.sum(y*np.log(a)+(1-y)*np.log(1-a))\n",
    "\n",
    "        dw = (1/m)*np.dot(a-y,x.T)\n",
    "        db = (1/m)*np.sum(a-y)\n",
    "        w = w - lr*dw.T\n",
    "        b = b - lr*db\n",
    "\n",
    "        cost_list.append(cost)\n",
    "        if(i%(ite/10)==0):\n",
    "            print(\"cost after :\",i,\"iteration is :\",cost)\n",
    "    return w , b , cost_list"
   ]
  },
  {
   "cell_type": "code",
   "execution_count": 22,
   "id": "6e24c767-7f7d-47f3-930a-3a34488d3d95",
   "metadata": {},
   "outputs": [
    {
     "name": "stdout",
     "output_type": "stream",
     "text": [
      "cost after : 0 iteration is : 0.6931471805599454\n",
      "cost after : 10000 iteration is : 0.5531533010534907\n",
      "cost after : 20000 iteration is : 0.5183191299516188\n",
      "cost after : 30000 iteration is : 0.4965289260075127\n",
      "cost after : 40000 iteration is : 0.48245399676349093\n",
      "cost after : 50000 iteration is : 0.4731091784928098\n",
      "cost after : 60000 iteration is : 0.46674931218489485\n",
      "cost after : 70000 iteration is : 0.46232065157415675\n",
      "cost after : 80000 iteration is : 0.45916899197522165\n",
      "cost after : 90000 iteration is : 0.4568781793119308\n"
     ]
    }
   ],
   "source": [
    "ite =100000\n",
    "lr = 0.0005\n",
    "w,b,cost_list = model(x_train,y_train,ite=ite,lr=lr)"
   ]
  },
  {
   "cell_type": "code",
   "execution_count": 23,
   "id": "5b8a840f-eeb5-47c7-8f4a-19cbbdb99c81",
   "metadata": {},
   "outputs": [
    {
     "data": {
      "image/png": "[encoded data removed]",
      "text/plain": [
       "<Figure size 640x480 with 1 Axes>"
      ]
     },
     "metadata": {},
     "output_type": "display_data"
    }
   ],
   "source": [
    "plt.plot(np.arange(ite),cost_list)\n",
    "plt.show()"
   ]
  },
  {
   "cell_type": "code",
   "execution_count": 28,
   "id": "a4299740-22a7-4155-a517-10dab8d98486",
   "metadata": {},
   "outputs": [],
   "source": [
    "def accuracuy(x,y,w,b):\n",
    "    z = np.dot(w.T,x)+b\n",
    "    a = segmoid(z)\n",
    "    a = a>0.5\n",
    "    a= np.array(a,dtype = 'int64')\n",
    "    acc = (1-np.sum(np.absolute(a-y))/y.shape[1])*100\n",
    "    print('accuracy is :',round(acc,2),\"%\")"
   ]
  },
  {
   "cell_type": "code",
   "execution_count": 29,
   "id": "d40ce65e-b229-40e0-8069-c0849aad778d",
   "metadata": {},
   "outputs": [
    {
     "name": "stdout",
     "output_type": "stream",
     "text": [
      "accuracy is : 91.15 %\n"
     ]
    }
   ],
   "source": [
    "accuracuy(x_test,y_test,w,b)"
   ]
  },
  {
   "cell_type": "code",
   "execution_count": null,
   "id": "8eb14c90-703f-47df-9761-e36265c6c407",
   "metadata": {},
   "outputs": [],
   "source": []
  }
 ],
 "metadata": {
  "kernelspec": {
   "display_name": "base",
   "language": "python",
   "name": "python3"
  },
  "language_info": {
   "codemirror_mode": {
    "name": "ipython",
    "version": 3
   },
   "file_extension": ".py",
   "mimetype": "text/x-python",
   "name": "python",
   "nbconvert_exporter": "python",
   "pygments_lexer": "ipython3",
   "version": "3.11.7"
  }
 },
 "nbformat": 4,
 "nbformat_minor": 5
}
